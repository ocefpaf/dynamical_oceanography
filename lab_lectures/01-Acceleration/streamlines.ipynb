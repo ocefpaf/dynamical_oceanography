{
 "metadata": {
  "name": "",
  "signature": "sha256:0c71a7c3225398c161d876fafd89512d350d5677fa51d54d09a22ba13be5f578"
 },
 "nbformat": 3,
 "nbformat_minor": 0,
 "worksheets": [
  {
   "cells": [
    {
     "cell_type": "code",
     "collapsed": false,
     "input": [
      "import numpy as np\n",
      "import matplotlib.pyplot as plt\n",
      "\n",
      "from sympy.abc import x, y\n",
      "from sympy import sin, atan2, sqrt, lambdify, latex\n",
      "\n",
      "from IPython.display import display\n",
      "from sympy.interactive import printing\n",
      "printing.init_printing()"
     ],
     "language": "python",
     "metadata": {},
     "outputs": []
    },
    {
     "cell_type": "markdown",
     "metadata": {},
     "source": [
      "$\\psi = U\\left( r - \\dfrac{R^2}{r} \\right)\n",
      "\\sin{\\theta}$\n",
      "\n",
      "- $U \\rightarrow$ velocidade horizontal;\n",
      "- $R \\rightarrow$ raio do cilindro;\n",
      "- $r, \\theta \\rightarrow$ coordenadas polar ."
     ]
    },
    {
     "cell_type": "code",
     "collapsed": false,
     "input": [
      "def cylinder_stream_function(U=1, R=1):\n",
      "    r = sqrt(x**2 + y**2)\n",
      "    theta = atan2(y, x)\n",
      "    return U * (r - R**2 / r) * sin(theta)"
     ],
     "language": "python",
     "metadata": {},
     "outputs": []
    },
    {
     "cell_type": "markdown",
     "metadata": {},
     "source": [
      "\\begin{align*}\n",
      "u &= + \\dfrac{\\partial\\psi}{\\partial y} \\\\\n",
      "v &= - \\dfrac{\\partial\\psi}{\\partial x}\n",
      "\\end{align*}"
     ]
    },
    {
     "cell_type": "code",
     "collapsed": false,
     "input": [
      "def velocity_field(psi):\n",
      "    u = lambdify((x, y), psi.diff(y), 'numpy')\n",
      "    v = lambdify((x, y), -psi.diff(x), 'numpy')\n",
      "    \n",
      "    ut = lambdify((x, y), psi.diff(y).diff(y), 'numpy')\n",
      "    vt = lambdify((x, y), -psi.diff(x).diff(y), 'numpy')\n",
      "    \n",
      "    return u, v, ut, vt"
     ],
     "language": "python",
     "metadata": {},
     "outputs": []
    },
    {
     "cell_type": "code",
     "collapsed": false,
     "input": [
      "def plot_streamlines(ax, u, v, ut, vt, xlim=(-1, 1), ylim=(-1, 1)):\n",
      "    x0, x1 = xlim\n",
      "    y0, y1 = ylim\n",
      "    Y, X =  np.ogrid[y0:y1:100j, x0:x1:100j]\n",
      "\n",
      "    ut, vt = ut(X, Y), vt(X, Y)\n",
      "    acc = np.sqrt(ut**2, vt**2)\n",
      "    kw = dict(cmap=plt.cm.rainbow, alpha=0.2, zorder=1, shading='gouraud')\n",
      "    cs = ax.pcolormesh(X, Y, acc, vmax=1, **kw)\n",
      "    fig.colorbar(cs, orientation='horizontal')\n",
      "    \n",
      "    ax.streamplot(X, Y, u(X, Y), v(X, Y), color='black', zorder=0)\n",
      "    \n",
      "def format_axes(ax):\n",
      "    ax.set_aspect('equal')\n",
      "    ax.figure.subplots_adjust(bottom=0, top=1, left=0, right=1)\n",
      "    ax.xaxis.set_ticks([])\n",
      "    ax.yaxis.set_ticks([])\n",
      "    for spine in ax.spines.values():\n",
      "        spine.set_visible(False)"
     ],
     "language": "python",
     "metadata": {},
     "outputs": []
    },
    {
     "cell_type": "code",
     "collapsed": false,
     "input": [
      "radius = 1\n",
      "\n",
      "psi = cylinder_stream_function(U=1, R=radius)\n",
      "u, v, ut, vt = velocity_field(psi)\n",
      "\n",
      "xlim = ylim = (-4, 4)\n",
      "fig, ax = plt.subplots(figsize=(6, 6))\n",
      "acc = plot_streamlines(ax, u, v, ut, vt, xlim, ylim)\n",
      "\n",
      "c = plt.Circle((0, 0), radius=radius, facecolor='cornflowerblue')\n",
      "ax.add_patch(c)\n",
      "format_axes(ax)"
     ],
     "language": "python",
     "metadata": {},
     "outputs": []
    },
    {
     "cell_type": "code",
     "collapsed": false,
     "input": [
      "psi.simplify()"
     ],
     "language": "python",
     "metadata": {},
     "outputs": []
    },
    {
     "cell_type": "code",
     "collapsed": false,
     "input": [
      "u = psi.diff(y)\n",
      "u.simplify()"
     ],
     "language": "python",
     "metadata": {},
     "outputs": []
    },
    {
     "cell_type": "code",
     "collapsed": false,
     "input": [
      "v = -psi.diff(x)\n",
      "v.simplify()"
     ],
     "language": "python",
     "metadata": {},
     "outputs": []
    }
   ],
   "metadata": {}
  }
 ]
}